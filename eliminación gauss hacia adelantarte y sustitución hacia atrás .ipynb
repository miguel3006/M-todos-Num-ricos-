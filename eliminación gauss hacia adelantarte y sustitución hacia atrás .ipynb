{
 "cells": [
  {
   "cell_type": "code",
   "execution_count": 1,
   "metadata": {
    "collapsed": false
   },
   "outputs": [
    {
     "name": "stdout",
     "output_type": "stream",
     "text": [
      "3 x1 + -0.1 x2 + -0.2 x3= 7.85\n",
      "0.1 x1 + 7 x2 + -0.3 x3 = -19.3\n",
      "0.3 x1 + -0.2 x2 + 10 x3 = 71.4\n",
      "\n",
      "\n",
      "3 x1 + -0.1 x2 + -0.2 x3 = 7.85\n",
      "0 + 7.003333333333333 x2 + -0.29333333333333333 x3 = -19.561666666666667\n",
      "0 + -0.19 x2 + 10.02 x3 = 70.61500000000001\n",
      "\n",
      "\n",
      "3 x1 + -0.1 x2 + -0.2 x3 = 7.85\n",
      "0 + 7.003333333333333 x2 + -0.29333333333333333 x3 = -19.561666666666667\n",
      "0 + 0 + 10.012041884816753 x3 = 70.08429319371729\n",
      "\n",
      "x3=  7.000000000000002\n",
      "\n",
      "x2=  -2.5\n",
      "\n",
      "x1=  3.0\n"
     ]
    }
   ],
   "source": [
    "n=3\n",
    "bb=[0,0,0,0]\n",
    "cc=[0,0,0,0]\n",
    "ccc=[0,0,0,0]\n",
    "x=[0,0,0,0]\n",
    "a=[3,-0.1,-0.2,7.85]\n",
    "b=[0.1,7,-0.3,-19.3]\n",
    "c=[0.3,-0.2,10,71.4]\n",
    "\n",
    "bb[0]=0\n",
    "bb[1]=b[1]-(b[0]/a[0])*a[1]\n",
    "bb[2]=b[2]-(b[0]/a[0])*a[2]\n",
    "bb[3]=b[3]-(b[0]/a[0])*a[3]\n",
    "\n",
    "cc[0]=0\n",
    "cc[1]=c[1]-(c[0]/a[0])*a[1]\n",
    "cc[2]=c[2]-(c[0]/a[0])*a[2]\n",
    "cc[3]=c[3]-(c[0]/a[0])*a[3]\n",
    "\n",
    "print(a[0],\"x1 +\",a[1],\"x2 +\" ,a[2],\"x3=\" ,a[3])\n",
    "print(b[0],\"x1 +\",b[1],\"x2 +\" ,b[2],\"x3 =\" ,b[3])\n",
    "print(c[0],\"x1 +\",c[1],\"x2 +\" ,c[2],\"x3 =\" ,c[3])\n",
    "print(\"\");\n",
    "print(\"\");\n",
    "print(a[0],\"x1 +\",a[1],\"x2 +\" ,a[2],\"x3 =\" ,a[3])\n",
    "print(bb[0],\"+\",bb[1],\"x2 +\" ,bb[2],\"x3 =\" ,bb[3])\n",
    "print(cc[0],\"+\",cc[1],\"x2 +\" ,cc[2],\"x3 =\" ,cc[3])\n",
    "\n",
    "ccc[0]=0\n",
    "ccc[1]=0\n",
    "ccc[2]=cc[2]-(cc[1]/bb[1])*bb[2]\n",
    "ccc[3]=cc[3]-(cc[1]/bb[1])*bb[3]\n",
    "\n",
    "print(\"\");\n",
    "print(\"\");\n",
    "print(a[0],\"x1 +\",a[1],\"x2 +\" ,a[2],\"x3 =\" ,a[3])\n",
    "print(bb[0],\"+\",bb[1],\"x2 +\" ,bb[2],\"x3 =\" ,bb[3])\n",
    "print(ccc[0],\"+\",ccc[1],\"+\" ,ccc[2],\"x3 =\" ,ccc[3])\n",
    "\n",
    "\n",
    "x[3]=ccc[3]/ccc[2]\n",
    "\n",
    "print(\"\");\n",
    "print(\"x3= \",x[3]);\n",
    "\n",
    "x[2]=(bb[3]-(bb[2]*x[3]))/bb[1]\n",
    "\n",
    "print(\"\");\n",
    "print(\"x2= \",x[2]);\n",
    "\n",
    "x[1]=(a[3]-(a[2]*x[3])-(a[1]*x[2]))/a[0]\n",
    "\n",
    "print(\"\");\n",
    "print(\"x1= \",x[1]);\n",
    "\n",
    "\n"
   ]
  },
  {
   "cell_type": "code",
   "execution_count": null,
   "metadata": {
    "collapsed": true
   },
   "outputs": [],
   "source": []
  }
 ],
 "metadata": {
  "kernelspec": {
   "display_name": "Python 3",
   "language": "python",
   "name": "python3"
  },
  "language_info": {
   "codemirror_mode": {
    "name": "ipython",
    "version": 3
   },
   "file_extension": ".py",
   "mimetype": "text/x-python",
   "name": "python",
   "nbconvert_exporter": "python",
   "pygments_lexer": "ipython3",
   "version": "3.5.1"
  }
 },
 "nbformat": 4,
 "nbformat_minor": 0
}

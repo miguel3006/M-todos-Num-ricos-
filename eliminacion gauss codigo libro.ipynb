{
 "cells": [
  {
   "cell_type": "code",
   "execution_count": null,
   "metadata": {
    "collapsed": true
   },
   "outputs": [],
   "source": [
    "Seudocódigo que realiza \n",
    "a) la eliminación hacia adelante y \n",
    "b) la sustitución hacia atrás.\n",
    "a)       \n",
    "DOFOR k = 1, n — 1         \n",
    "    DOFOR i = k + 1, n           \n",
    "        factor = ai,k / ak,k             \n",
    "            DOFOR j = k + 1 to n               \n",
    "                ai,j = ai,j — factor · ak,j            \n",
    "            END DO             \n",
    "        bi = bi — factor · bk         \n",
    "    END DO          \n",
    "END DO \n",
    "b)      \n",
    "xn = bn / an,n          \n",
    "    DOFOR i = n — 1, 1, —1         \n",
    "        sum = bi         \n",
    "            DOFOR j = i + 1, n            \n",
    "                sum = sum – ai,j · xj            \n",
    "            END DO             \n",
    "        xi = sum / ai,i          \n",
    "    END DO"
   ]
  },
  {
   "cell_type": "code",
   "execution_count": 2,
   "metadata": {
    "collapsed": false
   },
   "outputs": [
    {
     "name": "stdout",
     "output_type": "stream",
     "text": [
      "Valor de m:3\n",
      "Valor de n:3\n",
      "Introduce la matriz de coeficientes y el vector solución\n",
      "Elemento a[1,1]  3\n",
      "Elemento a[1,2]  -0.1\n",
      "Elemento a[1,3]  -0.2\n",
      "b[1]7.85\n",
      "Elemento a[2,1]  0.1\n",
      "Elemento a[2,2]  7\n",
      "Elemento a[2,3]  -0.3\n",
      "b[2]-19.3\n",
      "Elemento a[3,1]  0.3\n",
      "Elemento a[3,2]  -0.2\n",
      "Elemento a[3,3]  10\n",
      "b[3]71.4\n",
      "[[  3.   -0.1  -0.2]\n",
      " [  0.1   7.   -0.3]\n",
      " [  0.3  -0.2  10. ]]\n",
      "7.0\n",
      "Resultado matriz\n",
      "[[  3.          -0.1         -0.2       ]\n",
      " [  0.           7.00333333  -0.29333333]\n",
      " [  0.           0.          10.01204188]]\n",
      "Resultado del vector\n",
      "[  7.85       -19.56166667  70.08429319]\n",
      "Resultados: \n",
      "[ 3.  -2.5  7. ]\n"
     ]
    }
   ],
   "source": [
    "import numpy\n",
    "m=int(input(\"Valor de m:\"))\n",
    "n=int(input(\"Valor de n:\"))\n",
    "matrix = numpy.zeros((m,n))\n",
    "vector= numpy.zeros((n))\n",
    "x=numpy.zeros((m))\n",
    "print( 'Introduce la matriz de coeficientes y el vector solución')\n",
    "for r in range(0,m):\n",
    "    for c in range(0,n):\n",
    "        \n",
    "        matrix[(r),(c)]=(input(\"Elemento a[\"+str(r+1)+\",\"+str(c+1)+\"]  \"))\n",
    "        \n",
    "    vector[(r)]=(input(\"b[\"+str(r+1)+\"]\"))\n",
    "             \n",
    "print (matrix)\n",
    "                 \n",
    "for k in range(0,m):\n",
    "    for r in range(k+1,m):\n",
    "        factor=(matrix[r,k]/matrix[k,k])\n",
    "        vector[r]=vector[r]-(factor*vector[k])\n",
    "        for c in range(0,n):\n",
    "            matrix[r,c]=matrix[r,c]-(factor*matrix[k,c])\n",
    "\n",
    "\n",
    "#sustitución hacia atrás\n",
    "x[m-1]=vector[m-1]/matrix[m-1,m-1]\n",
    "print (x[m-1])\n",
    "for r in range(m-2,-1,-1):\n",
    "    suma=0\n",
    "    for c in range(0,n):\n",
    "        suma=suma+matrix[r,c]*x[c]\n",
    "    x[r]=(vector[r]-suma)/matrix[r,r]\n",
    "print ('Resultado matriz')\n",
    "print(matrix)\n",
    "print ('Resultado del vector')\n",
    "print(vector)\n",
    "print ('Resultados de la forma x1+x2+x3: ')\n",
    "print(x)"
   ]
  },
  {
   "cell_type": "code",
   "execution_count": null,
   "metadata": {
    "collapsed": true
   },
   "outputs": [],
   "source": []
  },
  {
   "cell_type": "code",
   "execution_count": null,
   "metadata": {
    "collapsed": true
   },
   "outputs": [],
   "source": []
  },
  {
   "cell_type": "code",
   "execution_count": null,
   "metadata": {
    "collapsed": true
   },
   "outputs": [],
   "source": []
  }
 ],
 "metadata": {
  "kernelspec": {
   "display_name": "Python 3",
   "language": "python",
   "name": "python3"
  },
  "language_info": {
   "codemirror_mode": {
    "name": "ipython",
    "version": 3
   },
   "file_extension": ".py",
   "mimetype": "text/x-python",
   "name": "python",
   "nbconvert_exporter": "python",
   "pygments_lexer": "ipython3",
   "version": "3.5.1"
  }
 },
 "nbformat": 4,
 "nbformat_minor": 0
}

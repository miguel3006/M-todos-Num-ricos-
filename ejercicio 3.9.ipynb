{
 "cells": [
  {
   "cell_type": "code",
   "execution_count": 1,
   "metadata": {
    "collapsed": false
   },
   "outputs": [
    {
     "name": "stdout",
     "output_type": "stream",
     "text": [
      "Termino    | Cos X Aprox          | Et %                           | Ea %                           |\n",
      "         1 |                  1.0 | 41.221475 %                    | 100.0 %                        |\n",
      "         2 |   0.5558678019509788 | 5.741913443627725 %            | -79.89888899666624 %           |\n",
      "         3 |   0.5887433701749547 | 0.16273986655169426 %          | 5.5840235133699 %              |\n",
      "         4 |   0.5877699636164597 | 0.00260074255007164 %          | -0.1656101227945979 %          |\n",
      "         5 |   0.5877854036591176 | 2.6142043777285475e-05 %       | 0.002626816277120294 %         |\n",
      "         6 |   0.5877852512720046 | 2.164063507885802e-07 %        | -2.592564420399015e-05 %       |\n",
      "         7 |   0.5877852522974596 | 3.908671656788403e-07 %        | 1.7446081526780443e-07 %       |\n"
     ]
    }
   ],
   "source": [
    "import math\n",
    "x=0.3*math.pi\n",
    "Es=(0.5*math.pow(10,(-6)))\n",
    "Val=round(math.cos(x), 8)\n",
    "serie,i ,n =0,0,1\n",
    "band=False\n",
    "print(\"{0:10} | {1:20} | {2:30} | {3:30} |\".format(\"Termino\", \"Cos X Aprox\", \"Et % \", \"Ea %\"));\n",
    "while 1:\n",
    "    if(i%2==0):\n",
    "        cosxaprox=math.pow(x, i)/math.factorial(i)\n",
    "        ant=serie\n",
    "        if(band==False):\n",
    "            serie=serie+cosxaprox\n",
    "            band=True\n",
    "        else:\n",
    "            serie=serie-cosxaprox\n",
    "            band=False\n",
    "        Ev=math.fabs(Val-serie)\n",
    "        Et=(Ev/serie)*100\n",
    "        Ea=((serie-ant)/serie)*100\n",
    "        print(\"{0:10} | {1:20} | {2:30} | {3:30} |\".format(n,serie,str(Et)+\" %\",str(Ea)+\" %\"));\n",
    "        n+=1\n",
    "    if(math.fabs(Ea)<Es):\n",
    "        break\n",
    "    i+=1"
   ]
  },
  {
   "cell_type": "code",
   "execution_count": null,
   "metadata": {
    "collapsed": true
   },
   "outputs": [],
   "source": []
  }
 ],
 "metadata": {
  "kernelspec": {
   "display_name": "Python 3",
   "language": "python",
   "name": "python3"
  },
  "language_info": {
   "codemirror_mode": {
    "name": "ipython",
    "version": 3
   },
   "file_extension": ".py",
   "mimetype": "text/x-python",
   "name": "python",
   "nbconvert_exporter": "python",
   "pygments_lexer": "ipython3",
   "version": "3.5.1"
  }
 },
 "nbformat": 4,
 "nbformat_minor": 0
}

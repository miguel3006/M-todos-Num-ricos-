{
 "cells": [
  {
   "cell_type": "code",
   "execution_count": 24,
   "metadata": {
    "collapsed": false
   },
   "outputs": [
    {
     "name": "stdout",
     "output_type": "stream",
     "text": [
      "      iteracion valor cos(x) serie   Error verdadero Error aproximado    Error tolerado\n",
      "              0 |               1 |    34.082925349 |               0|           5e-19\n",
      "0.34082925349\n",
      "              1 |  0.555867801951 |   61.3148040405 |  -79.8988889967|           5e-19\n",
      "0.34082925349\n"
     ]
    }
   ],
   "source": [
    "import math\n",
    "x=0.3*math.pi\n",
    "n=20\n",
    "e=0\n",
    "Es=0\n",
    "Ev=0\n",
    "Et=0\n",
    "Ea=0\n",
    "ev=0\n",
    "e2=0\n",
    "e1=0\n",
    "i=0\n",
    "k=2\n",
    "h=0\n",
    "print(\"      iteracion\"+\" valor cos(x) serie\"+\"   Error verdadero\"+\" Error aproximado\"+\"    Error tolerado\");\n",
    "while True:\n",
    "    e2=e1\n",
    "    h=math.factorial(k) \n",
    "    if i==0:\n",
    "        e=e+1  \n",
    "    if i%2==0 and i!=0:\n",
    "        e=e+(x**k)/h\n",
    "        k=k+2\n",
    "    if i%2!=0 and i!=0:\n",
    "        e=e-(x**k)/h\n",
    "        k=k+2\n",
    "    e1=e\n",
    "#print(\"Error \");\n",
    "    Es=(0.5*pow(10,2-n))  \n",
    "#print(\"Error verdadero\");\n",
    "    Ev=math.acos(x)\n",
    "    Et=(Ev/e)*100\n",
    "#print(\"Error aproximado\");\n",
    "    if e2==0:\n",
    "        Ea=0\n",
    "    else:\n",
    "        Ea=((e-e2)/e)*100\n",
    "    print (\"{0:15} | {1:15} | {2:15} | {3:15}| {4:15}\".format(i,e,Et,Ea,Es));\n",
    "    print (Ev);\n",
    "    if Ea<=Es and Ea !=0: \n",
    "        break\n",
    "    if i>100: \n",
    "        break\n",
    "    i=i+1"
   ]
  },
  {
   "cell_type": "code",
   "execution_count": null,
   "metadata": {
    "collapsed": true
   },
   "outputs": [],
   "source": []
  }
 ],
 "metadata": {
  "kernelspec": {
   "display_name": "Python 2",
   "language": "python",
   "name": "python2"
  },
  "language_info": {
   "codemirror_mode": {
    "name": "ipython",
    "version": 2
   },
   "file_extension": ".py",
   "mimetype": "text/x-python",
   "name": "python",
   "nbconvert_exporter": "python",
   "pygments_lexer": "ipython2",
   "version": "2.7.11"
  }
 },
 "nbformat": 4,
 "nbformat_minor": 0
}

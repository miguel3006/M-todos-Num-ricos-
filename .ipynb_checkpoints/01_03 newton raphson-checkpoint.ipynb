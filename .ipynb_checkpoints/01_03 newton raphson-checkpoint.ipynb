{
 "cells": [
  {
   "cell_type": "code",
   "execution_count": 7,
   "metadata": {
    "collapsed": false
   },
   "outputs": [
    {
     "name": "stdout",
     "output_type": "stream",
     "text": [
      "iteracion:  0 valor por funcion de newton-raphson:  0\n",
      "iteracion:  1 valor por funcion de newton-raphson:  0.5\n",
      "iteracion:  2 valor por funcion de newton-raphson:  0.5663110031972182\n",
      "iteracion:  3 valor por funcion de newton-raphson:  0.5671431650348622\n",
      "iteracion:  4 valor por funcion de newton-raphson:  0.5671432904097811\n",
      "iteracion:  5 valor por funcion de newton-raphson:  0.567143290409784\n",
      "iteracion:  6 valor por funcion de newton-raphson:  0.5671432904097838\n"
     ]
    }
   ],
   "source": [
    "import math\n",
    "xi=0\n",
    "i=0\n",
    "xf=0\n",
    "xi2=0\n",
    "while True:\n",
    "    if i==0:\n",
    "        xf=0\n",
    "    else:\n",
    "        xf=xi-(math.exp(-xi)-xi)/(-math.exp(-xi)-1)  \n",
    "        if xf==xi:\n",
    "            print(\"valor de la raiz es: \",xf)\n",
    "            break\n",
    "    xi=xf\n",
    "    print(\"iteracion: \",i,\"valor por funcion de newton-raphson: \",xf);\n",
    "    if i==100:\n",
    "        break\n",
    "    i=i+1"
   ]
  },
  {
   "cell_type": "code",
   "execution_count": null,
   "metadata": {
    "collapsed": true
   },
   "outputs": [],
   "source": []
  }
 ],
 "metadata": {
  "kernelspec": {
   "display_name": "Python 3",
   "language": "python",
   "name": "python3"
  },
  "language_info": {
   "codemirror_mode": {
    "name": "ipython",
    "version": 3
   },
   "file_extension": ".py",
   "mimetype": "text/x-python",
   "name": "python",
   "nbconvert_exporter": "python",
   "pygments_lexer": "ipython3",
   "version": "3.5.1"
  }
 },
 "nbformat": 4,
 "nbformat_minor": 0
}

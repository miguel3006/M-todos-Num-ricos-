{
 "cells": [
  {
   "cell_type": "code",
   "execution_count": 35,
   "metadata": {
    "collapsed": false
   },
   "outputs": [
    {
     "name": "stdout",
     "output_type": "stream",
     "text": [
      "        iteracion      ecuacion a      ecuacion b      Error verdadero    Error aproximado      Error tolerado\n",
      "              0 |            0.74 |            0.74 | 100.00000000000013| 1.3447233537347146e-13|            0.05\n"
     ]
    }
   ],
   "source": [
    "import math\n",
    "\n",
    "x=1.37\n",
    "n=3\n",
    "e=0\n",
    "e1=0\n",
    "Es=0\n",
    "Ev=0\n",
    "Et=0\n",
    "Ea=0\n",
    "e2=0\n",
    "i=0\n",
    "\n",
    "a=0\n",
    "a1=0\n",
    "a2=0\n",
    "a3=0\n",
    "b=0\n",
    "\n",
    "print(\"        iteracion\"+\"      ecuacion a\"+\"      ecuacion b\"+\"      Error verdadero\"+\"    Error aproximado\"+\"      Error tolerado\");\n",
    "while True:\n",
    "    e2=e1\n",
    "    a1=pow(x,3)\n",
    "    a2=8*x\n",
    "    a3=7*pow(x,2)\n",
    "    a=a1-a3+a2+0.35\n",
    "    \n",
    "    b=((x-7)*x+8)*x+0.35\n",
    "    #print(a,b);\n",
    "    e1=e\n",
    "#print(\"Error \");\n",
    "    Es=(0.5*math.pow(10,(2-n)))  \n",
    "#print(\"Error verdadero\");\n",
    "    Ev=a\n",
    "    Et=(Ev/b)*100\n",
    "#print(\"Error aproximado\");\n",
    "    \n",
    "    Ea=((a-b)/a)*100\n",
    "    print (\"{0:15} | {1:15} | {2:15} | {3:15}| {4:15}| {5:15}\".format(i,round(a,2),round(b,2),Et,Ea,Es));\n",
    "    if Ea<=Es and Ea !=0: \n",
    "        break\n",
    "    if i>200: \n",
    "        break\n",
    "    i=i+1\n",
    "    "
   ]
  },
  {
   "cell_type": "code",
   "execution_count": null,
   "metadata": {
    "collapsed": true
   },
   "outputs": [],
   "source": []
  },
  {
   "cell_type": "code",
   "execution_count": null,
   "metadata": {
    "collapsed": true
   },
   "outputs": [],
   "source": []
  }
 ],
 "metadata": {
  "kernelspec": {
   "display_name": "Python 3",
   "language": "python",
   "name": "python3"
  },
  "language_info": {
   "codemirror_mode": {
    "name": "ipython",
    "version": 3
   },
   "file_extension": ".py",
   "mimetype": "text/x-python",
   "name": "python",
   "nbconvert_exporter": "python",
   "pygments_lexer": "ipython3",
   "version": "3.5.1"
  }
 },
 "nbformat": 4,
 "nbformat_minor": 0
}

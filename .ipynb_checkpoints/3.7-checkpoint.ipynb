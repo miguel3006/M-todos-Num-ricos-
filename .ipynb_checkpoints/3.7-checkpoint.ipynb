{
 "cells": [
  {
   "cell_type": "code",
   "execution_count": 5,
   "metadata": {
    "collapsed": false
   },
   "outputs": [
    {
     "name": "stdout",
     "output_type": "stream",
     "text": [
      "Formula              | Valor Verdadero      | Aproximado | Et %                 |\n",
      "Primera formula      |   0.7430530000000001 |      0.743 | 0.007133243607009523 |\n",
      "Segunda formula      |   0.7430529999999991 |      0.743 | 0.007133243606875042 |\n"
     ]
    }
   ],
   "source": [
    "    x=1.37\n",
    "    y=x*x*x-7*x*x+8*x+0.35\n",
    "    val=y\n",
    "    y=round(y,3)\n",
    "    Ev=val-y\n",
    "    Et=(Ev/y)*100\n",
    "    print(\"{0:20} | {1:20} | {2:10} | {3:20} |\".format(\"Formula\", \"Valor Verdadero\", \"Aproximado\", \"Et %\"));\n",
    "    print(\"{0:20} | {1:20} | {2:10} | {3:20} |\".format(\"Primera formula \",val, y, Et));\n",
    "    #inciso b\n",
    "    y=((x-7)*x+8)*x+0.35\n",
    "    val=y\n",
    "    y=round(y,3)\n",
    "    Ev=val-y\n",
    "    Et=(Ev/y)*100\n",
    "    print(\"{0:20} | {1:20} | {2:10} | {3:20} |\".format(\"Segunda formula \",val, y, Et));\n",
    "    "
   ]
  },
  {
   "cell_type": "code",
   "execution_count": null,
   "metadata": {
    "collapsed": true
   },
   "outputs": [],
   "source": []
  },
  {
   "cell_type": "code",
   "execution_count": null,
   "metadata": {
    "collapsed": true
   },
   "outputs": [],
   "source": []
  }
 ],
 "metadata": {
  "kernelspec": {
   "display_name": "Python 3",
   "language": "python",
   "name": "python3"
  },
  "language_info": {
   "codemirror_mode": {
    "name": "ipython",
    "version": 3
   },
   "file_extension": ".py",
   "mimetype": "text/x-python",
   "name": "python",
   "nbconvert_exporter": "python",
   "pygments_lexer": "ipython3",
   "version": "3.5.1"
  }
 },
 "nbformat": 4,
 "nbformat_minor": 0
}

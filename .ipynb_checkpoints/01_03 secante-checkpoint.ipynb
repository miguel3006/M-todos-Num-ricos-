{
 "cells": [
  {
   "cell_type": "code",
   "execution_count": 3,
   "metadata": {
    "collapsed": false
   },
   "outputs": [
    {
     "name": "stdout",
     "output_type": "stream",
     "text": [
      "iteracion:  0 valor por funcion de newton-raphson:  0.6126998367802821\n",
      "iteracion:  1 valor por funcion de newton-raphson:  0.5638383891610742\n",
      "iteracion:  2 valor por funcion de newton-raphson:  0.5671703584197446\n",
      "iteracion:  3 valor por funcion de newton-raphson:  0.5671433066049633\n",
      "iteracion:  4 valor por funcion de newton-raphson:  0.5671432904097046\n",
      "iteracion:  5 valor por funcion de newton-raphson:  0.5671432904097838\n",
      "iteracion:  6 valor por funcion de newton-raphson:  0.5671432904097838\n",
      "valor de la raiz es:  0.5671432904097838\n"
     ]
    }
   ],
   "source": [
    "import math\n",
    "i=0\n",
    "xf=0\n",
    "xi0=0\n",
    "xi1=1\n",
    "xf0=math.exp(-xi0)-xi0\n",
    "xf1=math.exp(-xi1)-xi1\n",
    "while True:\n",
    "    if xf0-xf1==0:\n",
    "        print(\"valor de la raiz es: \",xf)\n",
    "        break\n",
    "    else:    \n",
    "        xf=xi1-(xf1*(xi0-xi1))/(xf0-xf1)\n",
    "    xi0=xi1\n",
    "    xi1=xf\n",
    "    xf0=xf1\n",
    "    xf1=math.exp(-xi1)-xi1\n",
    "    print(\"iteracion: \",i,\"valor por funcion secante: \",xf);\n",
    "    if i==100:\n",
    "        break\n",
    "    i=i+1"
   ]
  },
  {
   "cell_type": "code",
   "execution_count": null,
   "metadata": {
    "collapsed": true
   },
   "outputs": [],
   "source": []
  }
 ],
 "metadata": {
  "kernelspec": {
   "display_name": "Python 3",
   "language": "python",
   "name": "python3"
  },
  "language_info": {
   "codemirror_mode": {
    "name": "ipython",
    "version": 3
   },
   "file_extension": ".py",
   "mimetype": "text/x-python",
   "name": "python",
   "nbconvert_exporter": "python",
   "pygments_lexer": "ipython3",
   "version": "3.5.1"
  }
 },
 "nbformat": 4,
 "nbformat_minor": 0
}

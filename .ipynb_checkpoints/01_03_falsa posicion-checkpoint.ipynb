{
 "cells": [
  {
   "cell_type": "code",
   "execution_count": 6,
   "metadata": {
    "collapsed": false
   },
   "outputs": [
    {
     "name": "stdout",
     "output_type": "stream",
     "text": [
      "-0.6321205588285577\n",
      "metodo falsa posicion \n",
      "     iteracion               x1                x2                xr            Ea            Et\n",
      "              0 |                         0 |               1 |          0.6127  |               0 |         92.5646 \n",
      "              1 |                         0 |          0.6127 |          0.5722  |         -7.0814 |         99.1195 \n",
      "              2 |                         0 |          0.5722 |          0.5677  |         -0.7888 |         99.9014 \n",
      "              3 |                         0 |          0.5677 |          0.5672  |         -0.0877 |          99.989 \n",
      "              4 |                         0 |          0.5672 |          0.5672  |         -0.0098 |         99.9988 \n",
      "              5 |                         0 |          0.5672 |          0.5671  |         -0.0011 |         99.9999 \n",
      "              6 |                         0 |          0.5671 |          0.5671  |         -0.0001 |           100.0 \n",
      "              7 |                         0 |          0.5671 |          0.5671  |            -0.0 |           100.0 \n",
      "              8 |                         0 |          0.5671 |          0.5671  |            -0.0 |           100.0 \n",
      "              9 |                         0 |          0.5671 |          0.5671  |            -0.0 |           100.0 \n",
      "             10 |                         0 |          0.5671 |          0.5671  |            -0.0 |           100.0 \n",
      "             11 |                         0 |          0.5671 |          0.5671  |            -0.0 |           100.0 \n",
      "             12 |                         0 |          0.5671 |          0.5671  |            -0.0 |           100.0 \n",
      "             13 |                         0 |          0.5671 |          0.5671  |            -0.0 |           100.0 \n",
      "             14 |                         0 |          0.5671 |          0.5671  |            -0.0 |           100.0 \n",
      "             15 |                         0 |          0.5671 |          0.5671  |            -0.0 |           100.0 \n",
      "             16 |                         0 |          0.5671 |          0.5671  |            -0.0 |           100.0 \n",
      "             17 |                         0 |          0.5671 |          0.5671  |             0.0 |           100.0 \n"
     ]
    }
   ],
   "source": [
    "import math\n",
    "import scipy as sp\n",
    "import matplotlib.pyplot as plt\n",
    "from numpy import *\n",
    "\n",
    "v=40\n",
    "g=9.8\n",
    "m=68.1\n",
    "t=10\n",
    "fc=0\n",
    "x1=0\n",
    "x2=1\n",
    "xrf=0\n",
    "i=0\n",
    "ft=0\n",
    "fh=(math.exp(-x1)-x1)\n",
    "fk=(math.exp(-x2)-x2)\n",
    "ft=fh*fk\n",
    "fu=0\n",
    "Ev=0\n",
    "Et=0\n",
    "Ea=0\n",
    "e2=0\n",
    "e1=0\n",
    "print(ft)\n",
    "if ft<=0:  \n",
    "    print(\"metodo falsa posicion \");\n",
    "    print(\"     iteracion\"+\"               x1\"+\"                x2\"+\"                xr\"+\"            Ea\"+\"            Et\");\n",
    "    while True:\n",
    "        e2=xrf\n",
    "        fc=(math.exp(-x1)-x1)\n",
    "        fu=(math.exp(-x2)-x2)\n",
    "        xrf=x2-(fu*(x1-x2)/(fc-fu))\n",
    "        ft=fc*fu\n",
    "        e1=xrf\n",
    "        #print(\"Error verdadero\");\n",
    "        Ev=0.5671432904097838 \n",
    "        Et=(Ev/xrf)*100\n",
    "        #print(\"Error aproximado\");\n",
    "        if e2==0:\n",
    "            Ea=0\n",
    "        else:\n",
    "            Ea=((xrf-e2)/xrf)*100\n",
    "        if ft>0:\n",
    "            print (\"{0:15} | {1:25} | {2:15} | {3:15}  | {4:15} | {5:15} \".format((i),x1,round(x2,4),round(xrf,4),round(Ea,4),round(Et,4)));\n",
    "            x1=xrf\n",
    "        elif ft<0:\n",
    "            print (\"{0:15} | {1:25} | {2:15} | {3:15}  | {4:15} | {5:15} \".format((i),x1,round(x2,4),round(xrf,4),round(Ea,4),round(Et,4)));\n",
    "            x2=xrf \n",
    "        elif ft==0:\n",
    "            print (\"{0:15} | {1:25} | {2:15} | {3:15}  | {4:15} | {5:15} \".format((i),x1,round(x2,4),round(xrf,4),round(Ea,4),round(Et,4)));\n",
    "            break\n",
    "        #print(xr);\n",
    "        if i>100:\n",
    "            break\n",
    "        i=i+1 \n",
    "       \n"
   ]
  },
  {
   "cell_type": "code",
   "execution_count": null,
   "metadata": {
    "collapsed": true
   },
   "outputs": [],
   "source": []
  }
 ],
 "metadata": {
  "kernelspec": {
   "display_name": "Python 3",
   "language": "python",
   "name": "python3"
  },
  "language_info": {
   "codemirror_mode": {
    "name": "ipython",
    "version": 3
   },
   "file_extension": ".py",
   "mimetype": "text/x-python",
   "name": "python",
   "nbconvert_exporter": "python",
   "pygments_lexer": "ipython3",
   "version": "3.5.1"
  }
 },
 "nbformat": 4,
 "nbformat_minor": 0
}

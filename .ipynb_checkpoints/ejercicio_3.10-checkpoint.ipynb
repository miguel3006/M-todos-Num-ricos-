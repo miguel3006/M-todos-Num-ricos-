{
 "cells": [
  {
   "cell_type": "code",
   "execution_count": 8,
   "metadata": {
    "collapsed": false
   },
   "outputs": [
    {
     "name": "stdout",
     "output_type": "stream",
     "text": [
      "3.12\n",
      "('valor de x1=', 5000.0)\n",
      "('valor de x2= ', 0.0019999999999527063)\n",
      "3.13\n",
      "('valor de x1=', 5000.000000118234)\n",
      "('valor de x2= ', 0.002)\n",
      "('Error tolerado= ', 0.0005)\n",
      "('Error verdadero x1 = ', 99.99999999763531)\n",
      "('Error verdadero x2 = ', 99.99999999763531)\n",
      "('Error aproximado x1 = ', 2.364686224553696e-09)\n",
      "('Error aproximado x2 = ', 2.3646883062777846e-09)\n"
     ]
    }
   ],
   "source": [
    "import math\n",
    "a=1\n",
    "b=-5000.002\n",
    "c=10\n",
    "n=5\n",
    "\n",
    "h1=0\n",
    "h2=0\n",
    "\n",
    "k1=0\n",
    "k2=0\n",
    "\n",
    "Et=0\n",
    "Et1=0\n",
    "Ea=0\n",
    "Ea1=0\n",
    "while True:\n",
    "    print(\"3.12\");\n",
    "    h1=(-b+(math.sqrt((b**2)-(4*a*c))))/2*a\n",
    "    h2=(-b-(math.sqrt((b**2)-(4*a*c))))/2*a\n",
    "    print(\"valor de x1=\",h1);\n",
    "    print(\"valor de x2= \",h2);\n",
    "    print(\"3.13\");\n",
    "    k1=-2*c/(b+(math.sqrt((b**2)-(4*a*c))))\n",
    "    k2=-2*c/(b-(math.sqrt((b**2)-(4*a*c))))\n",
    "    print(\"valor de x1=\",k1);\n",
    "    print(\"valor de x2= \",k2);\n",
    "#print(\"Error \");\n",
    "    Es=(0.5*pow(10,2-n))  \n",
    "    print(\"Error tolerado= \",Es);\n",
    "#print(\"Error verdadero\");\n",
    "    \n",
    "    Et=(h1/k1)*100\n",
    "    Et1=(h2/k2)*100\n",
    "    print(\"Error verdadero x1 = \",Et);\n",
    "    print(\"Error verdadero x2 = \",Et1);\n",
    "\n",
    "#print(\"Error aproximado\");\n",
    "    Ea=((k1-h1)/k1)*100\n",
    "    Ea1=((k2-h2)/k2)*100\n",
    "    print(\"Error aproximado x1 = \",Ea);\n",
    "    print(\"Error aproximado x2 = \",Ea1);\n",
    "    if Ea<=Es and Ea !=0: \n",
    "        break"
   ]
  },
  {
   "cell_type": "code",
   "execution_count": null,
   "metadata": {
    "collapsed": true
   },
   "outputs": [],
   "source": []
  }
 ],
 "metadata": {
  "kernelspec": {
   "display_name": "Python 2",
   "language": "python",
   "name": "python2"
  },
  "language_info": {
   "codemirror_mode": {
    "name": "ipython",
    "version": 2
   },
   "file_extension": ".py",
   "mimetype": "text/x-python",
   "name": "python",
   "nbconvert_exporter": "python",
   "pygments_lexer": "ipython2",
   "version": "2.7.11"
  }
 },
 "nbformat": 4,
 "nbformat_minor": 0
}

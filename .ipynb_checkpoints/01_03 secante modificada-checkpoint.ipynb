{
 "cells": [
  {
   "cell_type": "code",
   "execution_count": 12,
   "metadata": {
    "collapsed": false
   },
   "outputs": [
    {
     "name": "stdout",
     "output_type": "stream",
     "text": [
      "iteracion:  0 valor por funcion de secante modificado:  0.5372626655366407\n",
      "iteracion:  1 valor por funcion de secante modificado:  0.5670349866351645\n",
      "iteracion:  2 valor por funcion de secante modificado:  0.5671434839718879\n",
      "iteracion:  3 valor por funcion de secante modificado:  0.567143290060064\n",
      "iteracion:  4 valor por funcion de secante modificado:  0.5671432904104158\n",
      "iteracion:  5 valor por funcion de secante modificado:  0.5671432904097827\n",
      "iteracion:  6 valor por funcion de secante modificado:  0.5671432904097838\n",
      "valor de la raiz es:  0.5671432904097838\n"
     ]
    }
   ],
   "source": [
    "import math\n",
    "i=0\n",
    "xf=0\n",
    "xi0=1\n",
    "d=0.01\n",
    "xf0=math.exp(-xi0)-xi0\n",
    "xfd=math.exp(-(xi0+d))-(xi0+d)\n",
    "while True:\n",
    "    xf=xi0-(d*(xf0))/(xfd-xf0)\n",
    "    if xf==xi0:\n",
    "        print(\"valor de la raiz es: \",xf)\n",
    "        break\n",
    "    \n",
    "    xi0=xf\n",
    "    xf0=math.exp(-xi0)-xi0\n",
    "    xfd=math.exp(-(xi0+d))-(xi0+d)\n",
    "    print(\"iteracion: \",i,\"valor por funcion de secante modificado: \",xf);\n",
    "    if i==100:\n",
    "        break\n",
    "    i=i+1\n"
   ]
  },
  {
   "cell_type": "code",
   "execution_count": null,
   "metadata": {
    "collapsed": true
   },
   "outputs": [],
   "source": []
  }
 ],
 "metadata": {
  "kernelspec": {
   "display_name": "Python 3",
   "language": "python",
   "name": "python3"
  },
  "language_info": {
   "codemirror_mode": {
    "name": "ipython",
    "version": 3
   },
   "file_extension": ".py",
   "mimetype": "text/x-python",
   "name": "python",
   "nbconvert_exporter": "python",
   "pygments_lexer": "ipython3",
   "version": "3.5.1"
  }
 },
 "nbformat": 4,
 "nbformat_minor": 0
}

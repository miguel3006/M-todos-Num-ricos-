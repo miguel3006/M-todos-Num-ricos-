{
 "cells": [
  {
   "cell_type": "code",
   "execution_count": 2,
   "metadata": {
    "collapsed": false
   },
   "outputs": [
    {
     "name": "stdout",
     "output_type": "stream",
     "text": [
      "Cuantos segundos:10\n"
     ]
    }
   ],
   "source": [
    "# Primer programa de caída libre\n",
    "# Una pelota se deja caer desde x0=1 m\n",
    "# Desde una altura de 50 m\n",
    "# Se observa en un tiempo [0,tn)\n",
    "# edelros@espol.edu.ec\n",
    "\n",
    "import numpy as np\n",
    "import matplotlib.pyplot as plt\n",
    "\n",
    "# Ingreso de variables\n",
    "tn=int(input('Cuantos segundos:'))\n",
    "x=np.zeros(tn,dtype=float)\n",
    "y=np.zeros(tn,dtype=float)\n",
    "t=np.zeros(tn,dtype=float)\n",
    "\n",
    "# condiciones iniciales\n",
    "t[0]=0\n",
    "x[0]=1\n",
    "y[0]=50\n",
    "\n",
    "# calcular los otros puntos\n",
    "i=1\n",
    "while (i<tn):\n",
    "    t[i]=t[i-1]+1\n",
    "    x[i]=x[0]\n",
    "    y[i]=y[0]+0*t[i]+0.5*(-9.8)*(t[i]**2)\n",
    "    i=i+1\n",
    "\n",
    "#salida\n",
    "plt.scatter(x,y)\n",
    "plt.show()"
   ]
  },
  {
   "cell_type": "code",
   "execution_count": null,
   "metadata": {
    "collapsed": true
   },
   "outputs": [],
   "source": []
  }
 ],
 "metadata": {
  "kernelspec": {
   "display_name": "Python 3",
   "language": "python",
   "name": "python3"
  },
  "language_info": {
   "codemirror_mode": {
    "name": "ipython",
    "version": 3
   },
   "file_extension": ".py",
   "mimetype": "text/x-python",
   "name": "python",
   "nbconvert_exporter": "python",
   "pygments_lexer": "ipython3",
   "version": "3.5.1"
  }
 },
 "nbformat": 4,
 "nbformat_minor": 0
}

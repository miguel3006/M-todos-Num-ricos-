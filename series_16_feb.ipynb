{
 "cells": [
  {
   "cell_type": "code",
   "execution_count": null,
   "metadata": {
    "collapsed": false
   },
   "outputs": [],
   "source": [
    "import math\n",
    "\n",
    "x=0.5\n",
    "n=3\n",
    "e=0\n",
    "e1=0\n",
    "Es=0\n",
    "Ev=0\n",
    "Et=0\n",
    "Ea=0\n",
    "ev=0\n",
    "e2=0\n",
    "i=0\n",
    "X = input(\"valor de X:  \")   \n",
    "n = input(\"valor de n:  \")   \n",
    "print(\"      iteracion\"+\"    valor e^x apx\"+\"   Error verdadero\"+\"    Error aproximado\"+\"    Error tolerado\");\n",
    "while True:\n",
    "    e2=e1\n",
    "    if i==0:\n",
    "        e=e+1     \n",
    "    else:\n",
    "        print (i);\n",
    "        e=e+pow(x,i)/math.factorial(i) \n",
    "    e1=e\n",
    "#print(\"Error \");\n",
    "    Es=(0.5*pow(10,2-n))  \n",
    "#print(\"Error verdadero\");\n",
    "    Ev=math.exp(x)\n",
    "    Et=(Ev/e)*100\n",
    "#print(\"Error aproximado\");\n",
    "    if e2==0:\n",
    "        Ea=0\n",
    "    else:\n",
    "        Ea=((e-e2)/e)*100\n",
    "    print (\"{0:15} | {1:15} | {2:15} | {3:15}| {4:15}\".format(i,e,Et,Ea,Es));\n",
    "    if Ea<=Es and Ea !=0: \n",
    "        break\n",
    "    i=i+1"
   ]
  },
  {
   "cell_type": "code",
   "execution_count": null,
   "metadata": {
    "collapsed": true
   },
   "outputs": [],
   "source": []
  }
 ],
 "metadata": {
  "kernelspec": {
   "display_name": "Python 2",
   "language": "python",
   "name": "python2"
  },
  "language_info": {
   "codemirror_mode": {
    "name": "ipython",
    "version": 2
   },
   "file_extension": ".py",
   "mimetype": "text/x-python",
   "name": "python",
   "nbconvert_exporter": "python",
   "pygments_lexer": "ipython2",
   "version": "2.7.11"
  }
 },
 "nbformat": 4,
 "nbformat_minor": 0
}

{
 "cells": [
  {
   "cell_type": "code",
   "execution_count": 28,
   "metadata": {
    "collapsed": false
   },
   "outputs": [
    {
     "name": "stdout",
     "output_type": "stream",
     "text": [
      "('valor de la fucion evaluada en x=0: ', 1.2)\n",
      "('valor de la derivada de la fucion evaluada en x=0: ', -0.25)\n",
      "('valor de la 2 derivada de la fucion evaluada en x=0: ', -1.0)\n",
      "('valor de la 3 derivada de la fucion evaluada en x=0: ', -0.8999999999999999)\n",
      "('valor de la 4 derivada de la fucion evaluada en x=0: ', -2.4000000000000004)\n",
      "('valor de la serie de taylor para la cuarta derivada = ', 0.1999999999999999)\n"
     ]
    }
   ],
   "source": [
    "import math\n",
    "x0=1.2\n",
    "x1=-0.25\n",
    "x2=-0.5\n",
    "x3=-0.15\n",
    "x4=-0.1\n",
    "xi=0\n",
    "n=4\n",
    "a4=4\n",
    "a3=3\n",
    "a2=2\n",
    "a1=1\n",
    "a0=0\n",
    "v=[]\n",
    "f=0\n",
    "v.append(x4)\n",
    "v.append(x3)\n",
    "v.append(x2)\n",
    "v.append(x1)\n",
    "v.append(x0)\n",
    "for i in range(0, n+2, 1):\n",
    "    if i==0:\n",
    "        a0=v[0]*xi+v[1]*xi+v[2]*xi+v[3]*xi+v[4]\n",
    "        print(\"valor de la fucion evaluada en x=0: \",a0);\n",
    "    if i==1:\n",
    "        a1=v[0]*xi+v[1]*xi+v[2]*xi+(v[3])\n",
    "        print(\"valor de la derivada de la fucion evaluada en x=0: \",a1);\n",
    "    if i==2:\n",
    "        a2=v[0]*xi+v[1]*xi+(v[2]*math.factorial(2))\n",
    "        print(\"valor de la 2 derivada de la fucion evaluada en x=0: \",a2);\n",
    "    if i==3:\n",
    "        a3=v[0]*xi+(v[1]*math.factorial(3))\n",
    "        print(\"valor de la 3 derivada de la fucion evaluada en x=0: \",a3);\n",
    "    if i==4:\n",
    "        a4=(v[0]*math.factorial(4))\n",
    "        print(\"valor de la 4 derivada de la fucion evaluada en x=0: \",a4);\n",
    "        \n",
    "    if i==5:\n",
    "        f=a0+a1+(a2/math.factorial(2))+(a3/math.factorial(3))++(a4/math.factorial(4))\n",
    "        print(\"valor de la serie de taylor para la cuarta derivada = \",f);\n",
    "    \n",
    "    "
   ]
  },
  {
   "cell_type": "code",
   "execution_count": null,
   "metadata": {
    "collapsed": true
   },
   "outputs": [],
   "source": []
  },
  {
   "cell_type": "code",
   "execution_count": null,
   "metadata": {
    "collapsed": true
   },
   "outputs": [],
   "source": []
  }
 ],
 "metadata": {
  "kernelspec": {
   "display_name": "Python 2",
   "language": "python",
   "name": "python2"
  },
  "language_info": {
   "codemirror_mode": {
    "name": "ipython",
    "version": 2
   },
   "file_extension": ".py",
   "mimetype": "text/x-python",
   "name": "python",
   "nbconvert_exporter": "python",
   "pygments_lexer": "ipython2",
   "version": "2.7.11"
  }
 },
 "nbformat": 4,
 "nbformat_minor": 0
}

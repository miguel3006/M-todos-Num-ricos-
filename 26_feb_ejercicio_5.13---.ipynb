{
 "cells": [
  {
   "cell_type": "code",
   "execution_count": 23,
   "metadata": {
    "collapsed": false
   },
   "outputs": [
    {
     "name": "stdout",
     "output_type": "stream",
     "text": [
      "metodo falsa posicion \n",
      "     iteracion               x1                x2                xr            Ea            Et\n",
      "              0 |              30 |              40 |         -3.0934  |               0 |      -1131.4402 \n",
      "              1 | -3.0934024673620826 |              40 |            40.0  |        107.7335 |            87.5 \n"
     ]
    },
    {
     "ename": "ZeroDivisionError",
     "evalue": "float division by zero",
     "output_type": "error",
     "traceback": [
      "\u001b[1;31m---------------------------------------------------------------------------\u001b[0m",
      "\u001b[1;31mZeroDivisionError\u001b[0m                         Traceback (most recent call last)",
      "\u001b[1;32m<ipython-input-23-df9469cd6d35>\u001b[0m in \u001b[0;36m<module>\u001b[1;34m()\u001b[0m\n\u001b[0;32m     33\u001b[0m         \u001b[0mfu\u001b[0m\u001b[1;33m=\u001b[0m\u001b[1;33m(\u001b[0m\u001b[0mg\u001b[0m\u001b[1;33m*\u001b[0m\u001b[0mx2\u001b[0m\u001b[1;33m/\u001b[0m\u001b[0mc\u001b[0m\u001b[1;33m)\u001b[0m\u001b[1;33m*\u001b[0m\u001b[1;33m(\u001b[0m\u001b[1;36m1\u001b[0m\u001b[1;33m-\u001b[0m\u001b[0mpow\u001b[0m\u001b[1;33m(\u001b[0m\u001b[0mmath\u001b[0m\u001b[1;33m.\u001b[0m\u001b[0mexp\u001b[0m\u001b[1;33m(\u001b[0m\u001b[1;36m1\u001b[0m\u001b[1;33m)\u001b[0m\u001b[1;33m,\u001b[0m\u001b[1;33m-\u001b[0m\u001b[1;33m(\u001b[0m\u001b[0mc\u001b[0m\u001b[1;33m/\u001b[0m\u001b[0mx2\u001b[0m\u001b[1;33m)\u001b[0m\u001b[1;33m*\u001b[0m\u001b[0mt\u001b[0m\u001b[1;33m)\u001b[0m\u001b[1;33m)\u001b[0m\u001b[1;33m\u001b[0m\u001b[0m\n\u001b[0;32m     34\u001b[0m         \u001b[1;31m#print(fc, fu)\u001b[0m\u001b[1;33m\u001b[0m\u001b[1;33m\u001b[0m\u001b[0m\n\u001b[1;32m---> 35\u001b[1;33m         \u001b[0mxrf\u001b[0m\u001b[1;33m=\u001b[0m\u001b[0mx2\u001b[0m\u001b[1;33m-\u001b[0m\u001b[1;33m(\u001b[0m\u001b[0mfu\u001b[0m\u001b[1;33m*\u001b[0m\u001b[1;33m(\u001b[0m\u001b[0mx1\u001b[0m\u001b[1;33m-\u001b[0m\u001b[0mx2\u001b[0m\u001b[1;33m)\u001b[0m\u001b[1;33m/\u001b[0m\u001b[1;33m(\u001b[0m\u001b[0mfc\u001b[0m\u001b[1;33m-\u001b[0m\u001b[0mfu\u001b[0m\u001b[1;33m)\u001b[0m\u001b[1;33m)\u001b[0m\u001b[1;33m\u001b[0m\u001b[0m\n\u001b[0m\u001b[0;32m     36\u001b[0m         \u001b[0mft\u001b[0m\u001b[1;33m=\u001b[0m\u001b[0mfc\u001b[0m\u001b[1;33m*\u001b[0m\u001b[0mfu\u001b[0m\u001b[1;33m\u001b[0m\u001b[0m\n\u001b[0;32m     37\u001b[0m         \u001b[0me1\u001b[0m\u001b[1;33m=\u001b[0m\u001b[0mxrf\u001b[0m\u001b[1;33m\u001b[0m\u001b[0m\n",
      "\u001b[1;31mZeroDivisionError\u001b[0m: float division by zero"
     ]
    }
   ],
   "source": [
    "from numpy import *\n",
    "import matplotlib.pyplot as plt\n",
    "g= 9.8\n",
    "m= 0\n",
    "c= 15\n",
    "t=9\n",
    "v=35\n",
    "\n",
    "\n",
    "fc=0\n",
    "x1=30\n",
    "x2=40\n",
    "xrf=0\n",
    "xrb=0\n",
    "i=0\n",
    "fx=0\n",
    "ft=0\n",
    "fh=(g*x1/c)*(1-math.exp(-(c/x1)*t))-v\n",
    "fk=(g*x2/c)*(1-math.exp(-(c/x2)*t))\n",
    "ft=fh*fk\n",
    "fu=0\n",
    "Ev=0\n",
    "Et=0\n",
    "Ea=0\n",
    "e2=0\n",
    "e1=0\n",
    "if ft<0:\n",
    "    print(\"metodo falsa posicion \");\n",
    "    print(\"     iteracion\"+\"               x1\"+\"                x2\"+\"                xr\"+\"            Ea\"+\"            Et\");\n",
    "    while True:\n",
    "        e2=xrf\n",
    "        fc=(g*x1/c)*(1-pow(math.exp(1),-(c/x1)*t))\n",
    "        fu=(g*x2/c)*(1-pow(math.exp(1),-(c/x2)*t))\n",
    "        #print(fc, fu)\n",
    "        xrf=x2-(fu*(x1-x2)/(fc-fu))\n",
    "        ft=fc*fu\n",
    "        e1=xrf\n",
    "        #print(\"Error verdadero\");\n",
    "        Ev=35\n",
    "        Et=(Ev/xrf)*100\n",
    "        #print(\"Error aproximado\");\n",
    "        if e2==0:\n",
    "            Ea=0\n",
    "        else:\n",
    "            Ea=((xrf-e2)/xrf)*100\n",
    "        if ft>0:\n",
    "            print (\"{0:15} | {1:15} | {2:15} | {3:15}  | {4:15} | {5:15} \".format((i),x1,round(x2,4),round(xrf,4),round(Ea,4),round(Et,4)));\n",
    "            x1=xrf\n",
    "        elif ft<0:\n",
    "            print (\"{0:15} | {1:15} | {2:15} | {3:15}  | {4:15} | {5:15} \".format((i),x1,round(x2,4),round(xrf,4),round(Ea,4),round(Et,4)));\n",
    "            x2=xrf \n",
    "        elif ft==0:\n",
    "            print (\"{0:15} | {1:15} | {2:15} | {3:15}  | {4:15} | {5:15} \".format((i),x1,round(x2,4),round(xrf,4),round(Ea,4),round(Et,4)));\n",
    "            break\n",
    "        #print(xr);\n",
    "        if i>100:\n",
    "            break\n",
    "        i=i+1 \n",
    "    \n",
    "\n"
   ]
  },
  {
   "cell_type": "code",
   "execution_count": null,
   "metadata": {
    "collapsed": true
   },
   "outputs": [],
   "source": []
  }
 ],
 "metadata": {
  "kernelspec": {
   "display_name": "Python 3",
   "language": "python",
   "name": "python3"
  },
  "language_info": {
   "codemirror_mode": {
    "name": "ipython",
    "version": 3
   },
   "file_extension": ".py",
   "mimetype": "text/x-python",
   "name": "python",
   "nbconvert_exporter": "python",
   "pygments_lexer": "ipython3",
   "version": "3.5.1"
  }
 },
 "nbformat": 4,
 "nbformat_minor": 0
}

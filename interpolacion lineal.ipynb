{
 "cells": [
  {
   "cell_type": "code",
   "execution_count": 7,
   "metadata": {
    "collapsed": false
   },
   "outputs": [],
   "source": [
    "import numpy as np\n",
    "import math\n",
    "import pylab as plt\n",
    "\n",
    "x=[]\n",
    "y=[]\n",
    "z=[]\n",
    "vx=[]\n",
    "vy=[]\n",
    "vz=[]\n",
    "l=1.0;\n",
    "for l in range(1,28):\n",
    "    x.append(math.log(l/4))\n",
    "l1=0\n",
    "l6=1.791759\n",
    "l4=1.386294\n",
    "l21=l1+((l6)/(6-1))*(2-1)\n",
    "l22=l1+((l4)/(4-1))*(2-1)\n",
    "y.append(l1)     \n",
    "y.append(l21) \n",
    "y.append(l6) \n",
    "z.append(l1) \n",
    "z.append(l22) \n",
    "z.append(l4) \n",
    "plt.title(\"interpolacion lineal\")\n",
    "plt.grid(True)\n",
    "plt.axis([0,7,0,2])\n",
    "plt.ylabel('x2')\n",
    "plt.xlabel('x1')\n",
    "for k in range(1,28):\n",
    "    vx.append(k/4)\n",
    "for m in range(1,7):\n",
    "    if (m==1):\n",
    "        vy.append(m)\n",
    "        vz.append(m)\n",
    "    if (m==2):\n",
    "        vy.append(m)\n",
    "        vz.append(m)\n",
    "    if (m==6):\n",
    "        vy.append(m)\n",
    "    if (m==4):\n",
    "        vz.append(m)\n",
    "\n",
    "plt.plot(vx,x,'g',linewidth=2,label='Valor verdadero')\n",
    "plt.plot(vy,y,'r--',linewidth=2,label='f(ln(6))')\n",
    "plt.plot(vz,z,'k--',linewidth=2,label='f(ln(4))')\n",
    "plt.legend(loc = 4)\n",
    "plt.show()\n"
   ]
  }
 ],
 "metadata": {
  "kernelspec": {
   "display_name": "Python 3",
   "language": "python",
   "name": "python3"
  },
  "language_info": {
   "codemirror_mode": {
    "name": "ipython",
    "version": 3
   },
   "file_extension": ".py",
   "mimetype": "text/x-python",
   "name": "python",
   "nbconvert_exporter": "python",
   "pygments_lexer": "ipython3",
   "version": "3.5.1"
  }
 },
 "nbformat": 4,
 "nbformat_minor": 0
}

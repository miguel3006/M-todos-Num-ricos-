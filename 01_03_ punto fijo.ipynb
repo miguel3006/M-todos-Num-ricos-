{
 "cells": [
  {
   "cell_type": "code",
   "execution_count": 11,
   "metadata": {
    "collapsed": false
   },
   "outputs": [
    {
     "name": "stdout",
     "output_type": "stream",
     "text": [
      "iteracion:  0 valor por funcion de punto fijo:  0\n",
      "iteracion:  1 valor por funcion de punto fijo:  1.0\n",
      "iteracion:  2 valor por funcion de punto fijo:  0.36787944117144233\n",
      "iteracion:  3 valor por funcion de punto fijo:  0.6922006275553464\n",
      "iteracion:  4 valor por funcion de punto fijo:  0.5004735005636368\n",
      "iteracion:  5 valor por funcion de punto fijo:  0.6062435350855974\n",
      "iteracion:  6 valor por funcion de punto fijo:  0.545395785975027\n",
      "iteracion:  7 valor por funcion de punto fijo:  0.5796123355033789\n",
      "iteracion:  8 valor por funcion de punto fijo:  0.5601154613610891\n",
      "iteracion:  9 valor por funcion de punto fijo:  0.571143115080177\n",
      "iteracion:  10 valor por funcion de punto fijo:  0.5648793473910495\n",
      "iteracion:  11 valor por funcion de punto fijo:  0.5684287250290607\n",
      "iteracion:  12 valor por funcion de punto fijo:  0.5664147331468833\n",
      "iteracion:  13 valor por funcion de punto fijo:  0.5675566373282834\n",
      "iteracion:  14 valor por funcion de punto fijo:  0.5669089119214953\n",
      "iteracion:  15 valor por funcion de punto fijo:  0.5672762321755696\n",
      "iteracion:  16 valor por funcion de punto fijo:  0.5670678983907884\n",
      "iteracion:  17 valor por funcion de punto fijo:  0.567186050099357\n",
      "iteracion:  18 valor por funcion de punto fijo:  0.5671190400572149\n",
      "iteracion:  19 valor por funcion de punto fijo:  0.5671570440012975\n",
      "iteracion:  20 valor por funcion de punto fijo:  0.5671354902062784\n",
      "iteracion:  21 valor por funcion de punto fijo:  0.5671477142601192\n",
      "iteracion:  22 valor por funcion de punto fijo:  0.567140781458298\n",
      "iteracion:  23 valor por funcion de punto fijo:  0.56714471334657\n",
      "iteracion:  24 valor por funcion de punto fijo:  0.5671424834013071\n",
      "iteracion:  25 valor por funcion de punto fijo:  0.5671437480994115\n",
      "iteracion:  26 valor por funcion de punto fijo:  0.5671430308342419\n",
      "iteracion:  27 valor por funcion de punto fijo:  0.56714343762633\n",
      "iteracion:  28 valor por funcion de punto fijo:  0.5671432069169137\n",
      "iteracion:  29 valor por funcion de punto fijo:  0.5671433377622069\n",
      "iteracion:  30 valor por funcion de punto fijo:  0.5671432635541754\n",
      "iteracion:  31 valor por funcion de punto fijo:  0.5671433056407622\n",
      "iteracion:  32 valor por funcion de punto fijo:  0.5671432817716368\n",
      "iteracion:  33 valor por funcion de punto fijo:  0.5671432953088511\n",
      "iteracion:  34 valor por funcion de punto fijo:  0.5671432876313107\n",
      "iteracion:  35 valor por funcion de punto fijo:  0.5671432919855762\n",
      "iteracion:  36 valor por funcion de punto fijo:  0.5671432895160838\n",
      "iteracion:  37 valor por funcion de punto fijo:  0.5671432909166398\n",
      "iteracion:  38 valor por funcion de punto fijo:  0.5671432901223239\n",
      "iteracion:  39 valor por funcion de punto fijo:  0.5671432905728149\n",
      "iteracion:  40 valor por funcion de punto fijo:  0.5671432903173219\n",
      "iteracion:  41 valor por funcion de punto fijo:  0.567143290462223\n",
      "iteracion:  42 valor por funcion de punto fijo:  0.5671432903800434\n",
      "iteracion:  43 valor por funcion de punto fijo:  0.567143290426651\n",
      "iteracion:  44 valor por funcion de punto fijo:  0.5671432904002178\n",
      "iteracion:  45 valor por funcion de punto fijo:  0.5671432904152092\n",
      "iteracion:  46 valor por funcion de punto fijo:  0.567143290406707\n",
      "iteracion:  47 valor por funcion de punto fijo:  0.5671432904115289\n",
      "iteracion:  48 valor por funcion de punto fijo:  0.5671432904087942\n",
      "iteracion:  49 valor por funcion de punto fijo:  0.5671432904103452\n",
      "iteracion:  50 valor por funcion de punto fijo:  0.5671432904094655\n",
      "iteracion:  51 valor por funcion de punto fijo:  0.5671432904099644\n",
      "iteracion:  52 valor por funcion de punto fijo:  0.5671432904096815\n",
      "iteracion:  53 valor por funcion de punto fijo:  0.5671432904098419\n",
      "iteracion:  54 valor por funcion de punto fijo:  0.567143290409751\n",
      "iteracion:  55 valor por funcion de punto fijo:  0.5671432904098025\n",
      "iteracion:  56 valor por funcion de punto fijo:  0.5671432904097733\n",
      "iteracion:  57 valor por funcion de punto fijo:  0.5671432904097898\n",
      "iteracion:  58 valor por funcion de punto fijo:  0.5671432904097805\n",
      "iteracion:  59 valor por funcion de punto fijo:  0.5671432904097857\n",
      "iteracion:  60 valor por funcion de punto fijo:  0.5671432904097828\n",
      "iteracion:  61 valor por funcion de punto fijo:  0.5671432904097845\n",
      "iteracion:  62 valor por funcion de punto fijo:  0.5671432904097835\n",
      "iteracion:  63 valor por funcion de punto fijo:  0.5671432904097841\n",
      "iteracion:  64 valor por funcion de punto fijo:  0.5671432904097837\n",
      "iteracion:  65 valor por funcion de punto fijo:  0.567143290409784\n",
      "iteracion:  66 valor por funcion de punto fijo:  0.5671432904097838\n",
      "valor de la raiz es:  0.5671432904097838\n"
     ]
    }
   ],
   "source": [
    "import math\n",
    "xi=0\n",
    "i=0\n",
    "xf=0\n",
    "xi2=0\n",
    "while True:\n",
    "    if i==0:\n",
    "        xf=0\n",
    "    else:\n",
    "        xf=math.exp(-xi) \n",
    "        if xf==xi:\n",
    "            print(\"valor de la raiz es: \",xf)\n",
    "            break\n",
    "    xi=xf\n",
    "    print(\"iteracion: \",i,\"valor por funcion de punto fijo: \",xf);\n",
    "    if i==100:\n",
    "        break\n",
    "    i=i+1"
   ]
  },
  {
   "cell_type": "code",
   "execution_count": null,
   "metadata": {
    "collapsed": true
   },
   "outputs": [],
   "source": []
  }
 ],
 "metadata": {
  "kernelspec": {
   "display_name": "Python 3",
   "language": "python",
   "name": "python3"
  },
  "language_info": {
   "codemirror_mode": {
    "name": "ipython",
    "version": 3
   },
   "file_extension": ".py",
   "mimetype": "text/x-python",
   "name": "python",
   "nbconvert_exporter": "python",
   "pygments_lexer": "ipython3",
   "version": "3.5.1"
  }
 },
 "nbformat": 4,
 "nbformat_minor": 0
}

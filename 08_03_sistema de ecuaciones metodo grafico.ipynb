{
 "cells": [
  {
   "cell_type": "code",
   "execution_count": 10,
   "metadata": {
    "collapsed": false
   },
   "outputs": [
    {
     "name": "stdout",
     "output_type": "stream",
     "text": [
      "ecuacion 3x1+2x2=18\n",
      "x  y\n",
      "0 9.0\n",
      "1 7.5\n",
      "2 6.0\n",
      "3 4.5\n",
      "4 3.0\n",
      "5 1.5\n",
      "6 0.0\n",
      "ecuacion -x1+2x2=2\n",
      "x  y\n",
      "0 1.0\n",
      "1 1.5\n",
      "2 2.0\n",
      "3 2.5\n",
      "4 3.0\n",
      "5 3.5\n",
      "6 4.0\n"
     ]
    }
   ],
   "source": [
    "from numpy import *\n",
    "import matplotlib.pyplot as plt\n",
    "g= 9.8\n",
    "m= 68.1\n",
    "c= 12.5\n",
    "t=2\n",
    "b=0\n",
    "x=[]\n",
    "z=[]\n",
    "y=[]\n",
    "p=[]\n",
    "x2=0\n",
    "x22=0\n",
    "print(\"ecuacion 3x1+2x2=18\");\n",
    "print(\"x  y\")\n",
    "for i in range (7):\n",
    "    x2=-(3/2)*i+9\n",
    "    x.append(i)\n",
    "    y.append(x2)\n",
    "    print(i,x2);\n",
    "print(\"ecuacion -x1+2x2=2\");\n",
    "print(\"x  y\")\n",
    "for i in range(7):\n",
    "    x22=-(-1/2)*i+1\n",
    "    z.append(i)\n",
    "    p.append(x22)\n",
    "    print(i,x22);\n",
    "plt.plot(x,y,'r',linewidth=2,label='3x1+2x2=18')\n",
    "plt.hold(True)\n",
    "plt.grid(True)\n",
    "plt.plot(z,p,'k--',linewidth=2,label='-x1+2x2=2')\n",
    "plt.legend(loc = 2)\n",
    "plt.show()\n",
    "\n",
    "\n"
   ]
  },
  {
   "cell_type": "code",
   "execution_count": null,
   "metadata": {
    "collapsed": true
   },
   "outputs": [],
   "source": []
  },
  {
   "cell_type": "code",
   "execution_count": null,
   "metadata": {
    "collapsed": true
   },
   "outputs": [],
   "source": []
  }
 ],
 "metadata": {
  "kernelspec": {
   "display_name": "Python 3",
   "language": "python",
   "name": "python3"
  },
  "language_info": {
   "codemirror_mode": {
    "name": "ipython",
    "version": 3
   },
   "file_extension": ".py",
   "mimetype": "text/x-python",
   "name": "python",
   "nbconvert_exporter": "python",
   "pygments_lexer": "ipython3",
   "version": "3.5.1"
  }
 },
 "nbformat": 4,
 "nbformat_minor": 0
}

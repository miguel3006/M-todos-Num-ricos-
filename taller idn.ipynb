{
 "cells": [
  {
   "cell_type": "code",
   "execution_count": 26,
   "metadata": {
    "collapsed": false
   },
   "outputs": [
    {
     "ename": "SyntaxError",
     "evalue": "invalid syntax (<ipython-input-26-89dce14a1584>, line 1)",
     "output_type": "error",
     "traceback": [
      "\u001b[1;36m  File \u001b[1;32m\"<ipython-input-26-89dce14a1584>\"\u001b[1;36m, line \u001b[1;32m1\u001b[0m\n\u001b[1;33m    a ) Un solo segmento\u001b[0m\n\u001b[1;37m      ^\u001b[0m\n\u001b[1;31mSyntaxError\u001b[0m\u001b[1;31m:\u001b[0m invalid syntax\n"
     ]
    }
   ],
   "source": [
    "a ) Un solo segmento \n",
    "FUNCTION Trap (h, f0, f1)\n",
    "    Trap = h * (f0 + f1)/2\n",
    "END Trap\n",
    "\n",
    "\n",
    "b) Segmentos múltiples\n",
    "FUNCTION Trapm (h, n, f) \t\n",
    "    sum = f0 \n",
    "    END Trap \n",
    "    D0FOR i = 1, n – 1  \n",
    "        sum = sum + 2 * fi  \n",
    "    END DO  \n",
    "    sum = sum + fn  \n",
    "    Trapm = h * sum/2  \n",
    "END Trapm\n"
   ]
  },
  {
   "cell_type": "code",
   "execution_count": 37,
   "metadata": {
    "collapsed": false
   },
   "outputs": [
    {
     "name": "stdout",
     "output_type": "stream",
     "text": [
      "simple 0.17280000000000004\n",
      "multiple 1.0688000000000002\n"
     ]
    }
   ],
   "source": [
    "def trapw(h,f):\n",
    "    trapw=h*(f[0]+f[1])/2\n",
    "    return trapw\n",
    "def trapm(h,n,f):\n",
    "    sum=f[0]\n",
    "    for i in range (1,n):\n",
    "        sum=sum+2*f[i]\n",
    "    sum=sum+f[n]\n",
    "    trapm=h*sum/(2*n)\n",
    "    return trapm\n",
    "a=0\n",
    "b=0.8\n",
    "h=b-a\n",
    "n=0#numero de segmentos\n",
    "f=[0.2,0.232]#valor de la funcion en cada punto\n",
    "print(\"simple\",trapw(h,f))\n",
    "h=0.8\n",
    "n=2\n",
    "f=[0.2,2.456,0.232]#valor de la funcion en cada punto\n",
    "print(\"multiple\",trapm(h,n,f))"
   ]
  },
  {
   "cell_type": "code",
   "execution_count": 7,
   "metadata": {
    "collapsed": false
   },
   "outputs": [
    {
     "name": "stdout",
     "output_type": "stream",
     "text": [
      "simpson 1/3 simple\n",
      "simple 1.3674666666666666\n"
     ]
    }
   ],
   "source": [
    "print (\"simpson 1/3 simple\")\n",
    "\n",
    "def trapw(h,f):\n",
    "    trapw=h*((f[0]+4*f[1]+f[2])/6)\n",
    "    return trapw\n",
    "    \n",
    "a=0\n",
    "b=0.8\n",
    "h=b-a\n",
    "f=[0.2,2.456,0.232]#valor de la funcion en cada punto\n",
    "print(\"simple\",trapw(h,f))"
   ]
  },
  {
   "cell_type": "code",
   "execution_count": 4,
   "metadata": {
    "collapsed": false
   },
   "outputs": [
    {
     "name": "stdout",
     "output_type": "stream",
     "text": [
      "simpson 1/3\n",
      "multiple 1.6234666666666666\n"
     ]
    }
   ],
   "source": [
    "print (\"simpson 1/3 multiple\")\n",
    "def trapm(h,n,f):\n",
    "    sum=f[0]\n",
    "    for i in range (1,n):\n",
    "        if (i==0 or i==2 or i==4 or i==6):\n",
    "            sum=sum+2*f[i]\n",
    "        if (i==1 or i==3 or i==5 or i==7):\n",
    "            sum=sum+4*f[i]\n",
    "    sum=sum+f[n]\n",
    "    trapm=h*sum/(3*n)\n",
    "    return trapm\n",
    "h=0.8\n",
    "n=4\n",
    "f=[0.2,1.288,2.456,3.464,0.232]#valor de la funcion en cada punto\n",
    "print(\"multiple\",trapm(h,n,f))"
   ]
  },
  {
   "cell_type": "code",
   "execution_count": 16,
   "metadata": {
    "collapsed": false
   },
   "outputs": [
    {
     "name": "stdout",
     "output_type": "stream",
     "text": [
      "simpson 3/8 simple\n",
      "simple 1.5191703\n"
     ]
    }
   ],
   "source": [
    "print (\"simpson 3/8 simple\")\n",
    "def trapw(h,f):\n",
    "    trapw=h*(f[0]+3*(f[1]+f[2])+f[3])/8\n",
    "    return trapw \n",
    "a=0\n",
    "b=0.8\n",
    "h=b-a\n",
    "f=[0.2,1.432724,3.487177,0.232]#valor de la funcion en cada punto\n",
    "print(\"simple\",trapw(h,f))"
   ]
  },
  {
   "cell_type": "code",
   "execution_count": 32,
   "metadata": {
    "collapsed": false
   },
   "outputs": [
    {
     "name": "stdout",
     "output_type": "stream",
     "text": [
      "simpson 3/8 multiple\n",
      "1     0.38032368\n",
      "2     1.2647534999999999\n",
      "multiple 1.64507718\n"
     ]
    }
   ],
   "source": [
    "print (\"simpson 3/8 multiple\")\n",
    "def trapm(h,n,f):\n",
    "    sum=f[0]\n",
    "    for i in range (1,n):\n",
    "        sum=sum+4*f[i]\n",
    "    sum=sum+f[n]\n",
    "    trapm=2*h*sum/(3*n)\n",
    "    return trapm\n",
    "def trapw(h,f,a):\n",
    "    trapw=3*h*(f[a-4]+3*(f[a-3]+f[a-2])+f[a-1])/8 \n",
    "    return trapw \n",
    "h=0.16\n",
    "n=2\n",
    "f=[0.2,1.296919,1.743393,3.186015,3.181929,0.232]#valor de la funcion en cada punto\n",
    "a=len(f) \n",
    "print(\"1    \",trapm(h,n,f))\n",
    "print(\"2    \",trapw(h,f,a))\n",
    "print(\"multiple\",trapm(h,n,f)+trapw(h,f,a))\n",
    "\n"
   ]
  },
  {
   "cell_type": "code",
   "execution_count": null,
   "metadata": {
    "collapsed": true
   },
   "outputs": [],
   "source": [
    "print (\"derivada hacia adelante\" )\n",
    "print (\" primera derivada\" )\n",
    "f=(fx1-fx)/h\n",
    "f=(-fx2+4*fx1-3*fx)/2*h\n",
    "print (\" segunda derivada\" )\n",
    "f=(fx2-2*fx1+fx)/h^2\n",
    "f=(-fx3+4*fx2-5*fx1+2*fx)/h^2\n",
    "print (\" tercera derivada\" )\n",
    "f=(fx3-3*fx2+3*fx1-fx)/h^3\n",
    "f=(-3*fx4+14*fx3-24*fx2+18*fx1-5fx)/2*h^3\n",
    "print (\" cuarta derivada\" )\n",
    "f=(fx4-4*fx3+6*fx2-4*fx1+fx)/h^4\n",
    "f=(-2*fx5+11*fx4-24*fx3+26*fx2-14*fx1+3*fx)/h^4\n",
    "\n",
    "print (\"derivada hacia atras\" )\n",
    "print (\" primera derivada\" )\n",
    "f=(fx-fx1)/h\n",
    "f=(fx2-4*fx1+3*fx)/2*h\n",
    "print (\" segunda derivada\" )\n",
    "f=(fx2-2*fx1+fx)/h^2\n",
    "f=(-fx3+4*fx2-5*fx1+2*fx)/h^2\n",
    "print (\" tercera derivada\" )\n",
    "f=(-fx3+3*fx2-3*fx1+fx)/h^3\n",
    "f=(3*fx4-14*fx3+24*fx2-18*fx1+5fx)/2*h^3\n",
    "print (\" cuarta derivada\" )\n",
    "f=(fx4-4*fx3+6*fx2-4*fx1+fx)/h^4\n",
    "f=(-2*fx5+11*fx4-24*fx3+26*fx2-14*fx1+3*fx)/h^4\n",
    "\n",
    "print (\"derivada hacia centrada\" )\n",
    "print (\" primera derivada\" )\n",
    "f=(fx11-fx1)/2*h\n",
    "f=(-fx22+8*fx11-8*fx1+fx2)/12*h\n",
    "print (\" segunda derivada\" )\n",
    "f=(fx11-2*fx+fx1)/h^2\n",
    "f=(-fx22+16*fx11-30*fx+16*fx1-fx2)/12*h^2\n",
    "print (\" tercera derivada\" )\n",
    "f=(fx22-2*fx11+2*fx1-fx2)/2*h^3\n",
    "f=(-fx33+8*fx22-13*fx11+13*fx1-8*fx2+fx3)/8*h^3\n",
    "print (\" cuarta derivada\" )\n",
    "f=(fx22-4*fx11+6*fx-4*fx1+fx2)/h^4\n",
    "f=(-fx33+12*fx22+39*fx11+56*fx-39*fx1+12*fx2+fx3)/6*h^4\n",
    "\n",
    "\n"
   ]
  },
  {
   "cell_type": "code",
   "execution_count": 8,
   "metadata": {
    "collapsed": false
   },
   "outputs": [
    {
     "name": "stdout",
     "output_type": "stream",
     "text": [
      "-0.8593752000000014\n",
      "-0.8781279999999985\n",
      "-0.9125010666666666\n"
     ]
    }
   ],
   "source": [
    "a=0\n",
    "b=0.25\n",
    "h=b-a\n",
    "\n",
    "fx=0.925\n",
    "fx11=1.103516\n",
    "fx22=1.2\n",
    "fx1=0.6363281\n",
    "fx2=0.2\n",
    "\n",
    "\n",
    "print((-fx2+4*fx1-3*fx)/(2*h))\n",
    "print((fx22-4*fx11+3*fx)/(2*h))\n",
    "print((-fx2+8*fx1-8*fx11+fx22)/(12*h))"
   ]
  },
  {
   "cell_type": "code",
   "execution_count": null,
   "metadata": {
    "collapsed": true
   },
   "outputs": [],
   "source": []
  }
 ],
 "metadata": {
  "kernelspec": {
   "display_name": "Python 3",
   "language": "python",
   "name": "python3"
  },
  "language_info": {
   "codemirror_mode": {
    "name": "ipython",
    "version": 3
   },
   "file_extension": ".py",
   "mimetype": "text/x-python",
   "name": "python",
   "nbconvert_exporter": "python",
   "pygments_lexer": "ipython3",
   "version": "3.5.1"
  }
 },
 "nbformat": 4,
 "nbformat_minor": 0
}
